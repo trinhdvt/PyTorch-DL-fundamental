{
 "cells": [
  {
   "cell_type": "code",
   "execution_count": 8,
   "id": "e76bd11f",
   "metadata": {},
   "outputs": [],
   "source": [
    "import numpy as np\n",
    "import matplotlib.pyplot as plt\n",
    "from sklearn.preprocessing import StandardScaler\n",
    "from sklearn.metrics import mean_squared_error, r2_score\n",
    "from sklearn.model_selection import train_test_split\n",
    "from sklearn import datasets\n",
    "\n",
    "% matplotlib inline"
   ]
  },
  {
   "cell_type": "markdown",
   "source": [
    "## Implement Regression class - wrapper for 4 regression model"
   ],
   "metadata": {
    "collapsed": false,
    "pycharm": {
     "name": "#%% md\n"
    }
   }
  },
  {
   "cell_type": "code",
   "execution_count": 9,
   "id": "176cb168",
   "metadata": {},
   "outputs": [],
   "source": [
    "class Regression:\n",
    "    def __init__(self, model='linear', alpha=0.5, beta=0.5):\n",
    "        \"\"\"\n",
    "        Regression model class. Default is linear regression\n",
    "\n",
    "        :param model: 'linear' or 'ridge' or  'lasso' or 'elastic-net'\n",
    "        :param alpha: decay value of 'ridge' or  'lasso' or 'elastic-net' regression\n",
    "        :param beta: decay value of 'elastic-net' regression\n",
    "        \"\"\"\n",
    "        assert model in ['linear', 'ridge', 'lasso', 'elastic-net'], \"Not supported model\"\n",
    "\n",
    "        self.model = model\n",
    "        self.alpha = alpha\n",
    "        self.beta = beta\n",
    "        self.w = np.array([])\n",
    "\n",
    "    @staticmethod\n",
    "    def _add_bias(x_):\n",
    "        ones = np.ones((x_.shape[0], 1))\n",
    "        return np.concatenate((x_, ones), axis=1)\n",
    "\n",
    "    def predict(self, x_):\n",
    "        if x_.shape[1] != self.w.shape[0]:\n",
    "            x_ = self._add_bias(x_)\n",
    "        return x_ @ self.w\n",
    "\n",
    "    def _calc_loss(self, x_, y_):\n",
    "        \"\"\"\n",
    "        Linear regression: norm_2(x @ w - y)\n",
    "        Ridge regression: norm_2(x @ w - y) + alpha * norm_2(w)\n",
    "        Lasso regression: norm_2(x @ w - y) + alpha * norm_1(w)\n",
    "        ElasticNet regression: norm_2(x @ w - y) + alpha * norm_2(w) + beta * norm_1(w)\n",
    "        \"\"\"\n",
    "        n = x_.shape[0]\n",
    "        y_hat = self.predict(x_)\n",
    "        common_loss = np.linalg.norm(y_hat - y_) / (2 * n)\n",
    "        penalty = 0\n",
    "        if self.model == 'ridge':\n",
    "            penalty = np.linalg.norm(self.w) * self.alpha\n",
    "        elif self.model == 'lasso':\n",
    "            penalty = np.sum(self.w) * self.alpha\n",
    "        elif self.model == 'elastic-net':\n",
    "            penalty = np.linalg.norm(self.w) * self.alpha + np.sum(self.w) * self.beta\n",
    "\n",
    "        return common_loss + penalty\n",
    "\n",
    "    def _gradient(self, x_, y_):\n",
    "        \"\"\"\n",
    "        Linear regression: x.T @ (x @ w - y)\n",
    "        Ridge regression:  x.T @ (x @ w - y) + 2 * alpha * w\n",
    "        Lasso regression:  x.T @ (x @ w - y) + alpha\n",
    "        ElasticNet regression: x.T @ (x @ w - y) + 2 * alpha * w + beta\n",
    "        \"\"\"\n",
    "\n",
    "        n = x_.shape[0]\n",
    "        y_hat = self.predict(x_)\n",
    "        common_gradient = (x_.T @ (y_hat - y_)) / n\n",
    "        add_gradient = 0\n",
    "        if self.model == 'ridge':\n",
    "            add_gradient = 2 * self.alpha * self.w\n",
    "        elif self.model == 'lasso':\n",
    "            add_gradient = self.alpha\n",
    "        elif self.model == 'elastic-net':\n",
    "            add_gradient = 2 * self.alpha * self.w + self.beta\n",
    "\n",
    "        return common_gradient + add_gradient\n",
    "\n",
    "    def fit(self, train_data, n_epochs=1000, lr=0.01):\n",
    "        x_train, y_train = train_data\n",
    "\n",
    "        # add bias to input\n",
    "        x_train = self._add_bias(x_train)\n",
    "\n",
    "        # init weight\n",
    "        self.w = np.random.rand(x_train.shape[1], 1)\n",
    "\n",
    "        # train\n",
    "        loss_hist = []\n",
    "        for it in range(n_epochs):\n",
    "            # calc loss\n",
    "            train_loss = self._calc_loss(x_train, y_train)\n",
    "            loss_hist.append(train_loss)\n",
    "\n",
    "            # update weight\n",
    "            self.w -= lr * self._gradient(x_train, y_train)\n",
    "\n",
    "        return loss_hist"
   ]
  },
  {
   "cell_type": "markdown",
   "source": [
    "### Load sample data from sklearn dataset"
   ],
   "metadata": {
    "collapsed": false,
    "pycharm": {
     "name": "#%% md\n"
    }
   }
  },
  {
   "cell_type": "code",
   "execution_count": 10,
   "id": "57d2bc21",
   "metadata": {},
   "outputs": [],
   "source": [
    "def load_data(test_size=0.2):\n",
    "    diabetes_x, diabetes_y = datasets.load_diabetes(return_X_y=True)\n",
    "\n",
    "    scaler = StandardScaler()\n",
    "    diabetes_x = scaler.fit_transform(diabetes_x, diabetes_y)\n",
    "\n",
    "    diabetes_x = diabetes_x[:, 2].reshape(-1, 1)\n",
    "    diabetes_y = diabetes_y.reshape(-1, 1)\n",
    "\n",
    "    return train_test_split(diabetes_x, diabetes_y, test_size=test_size)"
   ]
  },
  {
   "cell_type": "code",
   "execution_count": 11,
   "id": "fc8aec19",
   "metadata": {},
   "outputs": [],
   "source": [
    "x_train, x_test, y_train, y_test = load_data()"
   ]
  },
  {
   "cell_type": "markdown",
   "source": [
    "### Train model"
   ],
   "metadata": {
    "collapsed": false,
    "pycharm": {
     "name": "#%% md\n"
    }
   }
  },
  {
   "cell_type": "code",
   "execution_count": 18,
   "id": "8f5878d7",
   "metadata": {
    "scrolled": true
   },
   "outputs": [],
   "source": [
    "model = Regression(model='linear')\n",
    "lr = 0.01\n",
    "n_epochs = 500\n",
    "loss_hist = model.fit((x_train, y_train), n_epochs=n_epochs, lr=lr)"
   ]
  },
  {
   "cell_type": "markdown",
   "source": [
    "### Visualize result"
   ],
   "metadata": {
    "collapsed": false,
    "pycharm": {
     "name": "#%% md\n"
    }
   }
  },
  {
   "cell_type": "code",
   "execution_count": 22,
   "id": "1dc43a7c",
   "metadata": {
    "scrolled": true
   },
   "outputs": [
    {
     "data": {
      "text/plain": "<Figure size 864x360 with 2 Axes>",
      "image/png": "[encoded data removed]"
     },
     "metadata": {
      "needs_background": "light"
     },
     "output_type": "display_data"
    }
   ],
   "source": [
    "y_predict = model.predict(x_test)\n",
    "r2 = r2_score(y_predict, y_test)\n",
    "mse = mean_squared_error(y_predict, y_test)\n",
    "\n",
    "fig, (ax1, ax2) = plt.subplots(1, 2, figsize=(12, 5))\n",
    "ax1.plot(range(len(loss_hist)), loss_hist, label='loss')\n",
    "ax1.set_title('Train loss history')\n",
    "ax1.set_xlabel('Epoch')\n",
    "ax1.set_ylabel('Value')\n",
    "ax1.legend()\n",
    "\n",
    "ax2.scatter(x_test, y_test)\n",
    "ax2.plot(x_test, y_predict, color='red', linewidth=2, label='predict')\n",
    "ax2.set_title(f\"R2: {r2:.3f} and MSE: {mse:.3f}\")\n",
    "ax2.legend()\n",
    "\n",
    "plt.show()"
   ]
  },
  {
   "cell_type": "code",
   "execution_count": 14,
   "id": "1b2f4a2c",
   "metadata": {},
   "outputs": [],
   "source": []
  }
 ],
 "metadata": {
  "kernelspec": {
   "display_name": "Python 3 (ipykernel)",
   "language": "python",
   "name": "python3"
  },
  "language_info": {
   "codemirror_mode": {
    "name": "ipython",
    "version": 3
   },
   "file_extension": ".py",
   "mimetype": "text/x-python",
   "name": "python",
   "nbconvert_exporter": "python",
   "pygments_lexer": "ipython3",
   "version": "3.9.7"
  }
 },
 "nbformat": 4,
 "nbformat_minor": 5
}