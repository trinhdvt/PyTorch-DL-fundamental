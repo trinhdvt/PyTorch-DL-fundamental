{
 "cells": [
  {
   "cell_type": "code",
   "execution_count": 4,
   "id": "7c2f0acb",
   "metadata": {},
   "outputs": [],
   "source": [
    "import torch\n",
    "import matplotlib.pyplot as plt\n",
    "\n",
    "from torchvision import datasets\n",
    "from torchvision.transforms import Compose, ToTensor, Normalize\n",
    "from torch import nn\n",
    "from torchsummary import summary\n",
    "\n",
    "%matplotlib inline"
   ]
  },
  {
   "cell_type": "markdown",
   "id": "d63fd414",
   "metadata": {},
   "source": [
    "### Load data CIFAR-10"
   ]
  },
  {
   "cell_type": "code",
   "execution_count": 5,
   "id": "4226232c",
   "metadata": {},
   "outputs": [
    {
     "name": "stdout",
     "output_type": "stream",
     "text": [
      "Files already downloaded and verified\n",
      "Files already downloaded and verified\n"
     ]
    }
   ],
   "source": [
    "data_path = \"../data/cifar-10/\"\n",
    "\n",
    "transform = Compose([ToTensor(), \n",
    "                     Normalize(mean=(0.4914, 0.4822, 0.4465), std=(0.2470, 0.2435, 0.2616))])\n",
    "\n",
    "cifar10 = datasets.CIFAR10(data_path, train=True, download=True, transform=transform)\n",
    "cifar10_val = datasets.CIFAR10(data_path, train=False, download=True, transform=transform)"
   ]
  },
  {
   "cell_type": "markdown",
   "id": "77bf5875",
   "metadata": {},
   "source": [
    "### Create a small dataset"
   ]
  },
  {
   "cell_type": "code",
   "execution_count": 6,
   "id": "6b82fc85",
   "metadata": {},
   "outputs": [],
   "source": [
    "label_map = {0:0, 2:1}\n",
    "class_names = ['airplane', 'bird']\n",
    "\n",
    "train_set = [(img, label_map[label]) for img, label in cifar10 if label in [0, 2]]\n",
    "val_set = [(img, label_map[label]) for img, label in cifar10_val if label in [0, 2]]"
   ]
  },
  {
   "cell_type": "markdown",
   "id": "3128dfef",
   "metadata": {},
   "source": [
    "### Visualize data"
   ]
  },
  {
   "cell_type": "code",
   "execution_count": 11,
   "id": "e976e686",
   "metadata": {},
   "outputs": [
    {
     "name": "stderr",
     "output_type": "stream",
     "text": [
      "Clipping input data to the valid range for imshow with RGB data ([0..1] for floats or [0..255] for integers).\n"
     ]
    },
    {
     "data": {
      "image/png": "[encoded data removed]",
      "text/plain": [
       "<Figure size 432x288 with 1 Axes>"
      ]
     },
     "metadata": {
      "needs_background": "light"
     },
     "output_type": "display_data"
    }
   ],
   "source": [
    "plt.imshow(train_set[0][0].permute(1, 2, 0))\n",
    "plt.show()"
   ]
  },
  {
   "cell_type": "markdown",
   "id": "0644a659",
   "metadata": {},
   "source": [
    "### Build the model"
   ]
  },
  {
   "cell_type": "code",
   "execution_count": 33,
   "id": "64ec050d",
   "metadata": {},
   "outputs": [],
   "source": [
    "class Net(nn.Module):\n",
    "    def __init__(self):\n",
    "        super().__init__()\n",
    "        \n",
    "        self.conv_block = nn.Sequential(\n",
    "            nn.Conv2d(in_channels=3, out_channels=16, kernel_size=(3, 3), padding=1),\n",
    "            nn.ReLU(),\n",
    "            nn.MaxPool2d(kernel_size=(2, 2)),\n",
    "            nn.Conv2d(16, 32, kernel_size=(3, 3), padding=1),\n",
    "            nn.ReLU(),\n",
    "            nn.MaxPool2d(kernel_size=(2, 2))\n",
    "        )\n",
    "        \n",
    "        self.classifier = nn.Sequential(\n",
    "            nn.Flatten(),\n",
    "            nn.Linear(8*8*32, 512),\n",
    "            nn.ReLU(),\n",
    "            nn.Dropout(0.3),\n",
    "            nn.Linear(512, 64),\n",
    "            nn.ReLU(),\n",
    "            nn.Dropout(0.2),\n",
    "            nn.Linear(64, 2),\n",
    "            nn.LogSoftmax(dim=1)\n",
    "        )\n",
    "        \n",
    "    def forward(self, x):\n",
    "        # conv block         \n",
    "        x = self.conv_block(x)\n",
    "        \n",
    "        # classifier\n",
    "        x = self.classifier(x)\n",
    "        \n",
    "        return x"
   ]
  },
  {
   "cell_type": "code",
   "execution_count": 34,
   "id": "3040c85a",
   "metadata": {},
   "outputs": [
    {
     "name": "stdout",
     "output_type": "stream",
     "text": [
      "----------------------------------------------------------------\n",
      "        Layer (type)               Output Shape         Param #\n",
      "================================================================\n",
      "            Conv2d-1            [1, 16, 32, 32]             448\n",
      "              ReLU-2            [1, 16, 32, 32]               0\n",
      "         MaxPool2d-3            [1, 16, 16, 16]               0\n",
      "            Conv2d-4            [1, 32, 16, 16]           4,640\n",
      "              ReLU-5            [1, 32, 16, 16]               0\n",
      "         MaxPool2d-6              [1, 32, 8, 8]               0\n",
      "           Flatten-7                  [1, 2048]               0\n",
      "            Linear-8                   [1, 512]       1,049,088\n",
      "              ReLU-9                   [1, 512]               0\n",
      "          Dropout-10                   [1, 512]               0\n",
      "           Linear-11                    [1, 64]          32,832\n",
      "             ReLU-12                    [1, 64]               0\n",
      "          Dropout-13                    [1, 64]               0\n",
      "           Linear-14                     [1, 2]             130\n",
      "       LogSoftmax-15                     [1, 2]               0\n",
      "================================================================\n",
      "Total params: 1,087,138\n",
      "Trainable params: 1,087,138\n",
      "Non-trainable params: 0\n",
      "----------------------------------------------------------------\n",
      "Input size (MB): 0.01\n",
      "Forward/backward pass size (MB): 0.45\n",
      "Params size (MB): 4.15\n",
      "Estimated Total Size (MB): 4.61\n",
      "----------------------------------------------------------------\n"
     ]
    }
   ],
   "source": [
    "model = Net()\n",
    "summary(model, (3, 32, 32), batch_size=1)"
   ]
  },
  {
   "cell_type": "markdown",
   "id": "739aeca1",
   "metadata": {},
   "source": [
    "### Initialize params"
   ]
  },
  {
   "cell_type": "code",
   "execution_count": 38,
   "id": "3dfb56db",
   "metadata": {},
   "outputs": [],
   "source": [
    "learning_rate = 1e-2\n",
    "optimzer = torch.optim.Adam(model.parameters(), lr=learning_rate)\n",
    "loss_fn = nn.NLLLoss()\n",
    "\n",
    "device = \"cuda\" if torch.cuda.is_available() else \"cpu\"\n",
    "model.to(device)\n",
    "batch_size = 64\n",
    "train_loader = torch.utils.data.DataLoader(train_set, batch_size=batch_size, shuffle=True)\n",
    "val_loader = torch.utils.data.DataLoader(val_set, batch_size=batch_size)"
   ]
  },
  {
   "cell_type": "markdown",
   "id": "f8732b9a",
   "metadata": {},
   "source": [
    "### Training the model"
   ]
  },
  {
   "cell_type": "code",
   "execution_count": 39,
   "id": "baac1c4b",
   "metadata": {},
   "outputs": [
    {
     "name": "stdout",
     "output_type": "stream",
     "text": [
      "Epoch 0 loss 0.121948 %\n",
      "Epoch 1 loss 0.101016 %\n",
      "Epoch 2 loss 0.477697 %\n",
      "Epoch 3 loss 0.474845 %\n",
      "Epoch 4 loss 0.295752 %\n",
      "Epoch 5 loss 0.414453 %\n",
      "Epoch 6 loss 0.348943 %\n",
      "Epoch 7 loss 0.436883 %\n",
      "Epoch 8 loss 0.568099 %\n",
      "Epoch 9 loss 0.282434 %\n"
     ]
    }
   ],
   "source": [
    "n_epochs = 10\n",
    "\n",
    "def training_loops(n_epochs, model, train_loader, optimzer, loss_fn, verbose=1):\n",
    "    for epoch in range(n_epochs):\n",
    "        for imgs, labels in train_loader:\n",
    "            imgs, labels = imgs.to(device), labels.to(device)\n",
    "            \n",
    "            out = model(imgs)\n",
    "            loss = loss_fn(out, labels)\n",
    "\n",
    "            optimzer.zero_grad()\n",
    "            loss.backward()\n",
    "            optimzer.step()\n",
    "\n",
    "        if epoch % verbose == 0:\n",
    "            print(f\"Epoch {epoch} loss {loss:3f} %\")\n",
    "\n",
    "model.train()\n",
    "training_loops(n_epochs, model, train_loader, optimzer, loss_fn)"
   ]
  },
  {
   "cell_type": "markdown",
   "id": "a6a63297",
   "metadata": {},
   "source": [
    "### Measuring accuracy"
   ]
  },
  {
   "cell_type": "code",
   "execution_count": 40,
   "id": "a60c46da",
   "metadata": {},
   "outputs": [
    {
     "name": "stdout",
     "output_type": "stream",
     "text": [
      "Accuracy train: 0.886500 %\n",
      "Accuracy val: 0.856000 %\n"
     ]
    }
   ],
   "source": [
    "def validate(model, train_loader, val_loader):\n",
    "    for name, loader in [('train', train_loader), ('val', val_loader)]:\n",
    "        correct = 0\n",
    "        total = 0\n",
    "\n",
    "        with torch.no_grad():\n",
    "            for imgs, labels in loader:\n",
    "                imgs, labels = imgs.to(device), labels.to(device)\n",
    "                \n",
    "                outputs = model(imgs)\n",
    "                _, predicted = torch.max(outputs, dim=1)\n",
    "                total += labels.shape[0]\n",
    "                correct += int((predicted == labels).sum())\n",
    "\n",
    "        print(f\"Accuracy {name}: {correct/total:3f} %\")\n",
    "\n",
    "model.eval()\n",
    "validate(model, train_loader, val_loader)"
   ]
  },
  {
   "cell_type": "markdown",
   "id": "8c8c7b3a",
   "metadata": {},
   "source": [
    "### Save the model"
   ]
  },
  {
   "cell_type": "code",
   "execution_count": 41,
   "id": "e2c38fea",
   "metadata": {},
   "outputs": [],
   "source": [
    "torch.save(model.state_dict(), \"bird_vs_airplane.pt\")"
   ]
  },
  {
   "cell_type": "markdown",
   "id": "8e054cb6",
   "metadata": {},
   "source": [
    "### Load the model"
   ]
  },
  {
   "cell_type": "code",
   "execution_count": 42,
   "id": "d5bac55f",
   "metadata": {},
   "outputs": [
    {
     "data": {
      "text/plain": [
       "<All keys matched successfully>"
      ]
     },
     "execution_count": 42,
     "metadata": {},
     "output_type": "execute_result"
    }
   ],
   "source": [
    "loaded_model = Net().to(device)\n",
    "loaded_model.load_state_dict(torch.load('bird_vs_airplane.pt'))\n",
    "\n",
    "# loaded_model.eval()"
   ]
  },
  {
   "cell_type": "code",
   "execution_count": null,
   "id": "e8d42d9d",
   "metadata": {},
   "outputs": [],
   "source": []
  }
 ],
 "metadata": {
  "kernelspec": {
   "display_name": "Python 3 (ipykernel)",
   "language": "python",
   "name": "python3"
  },
  "language_info": {
   "codemirror_mode": {
    "name": "ipython",
    "version": 3
   },
   "file_extension": ".py",
   "mimetype": "text/x-python",
   "name": "python",
   "nbconvert_exporter": "python",
   "pygments_lexer": "ipython3",
   "version": "3.9.6"
  }
 },
 "nbformat": 4,
 "nbformat_minor": 5
}
