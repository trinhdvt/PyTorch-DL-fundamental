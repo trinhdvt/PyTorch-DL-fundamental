{
 "cells": [
  {
   "cell_type": "code",
   "execution_count": 2,
   "id": "d3e9fde2",
   "metadata": {},
   "outputs": [],
   "source": [
    "import numpy as np\n",
    "import matplotlib.pyplot as plt\n",
    "from scipy.spatial.distance import cdist\n",
    "\n",
    "%matplotlib inline"
   ]
  },
  {
   "cell_type": "code",
   "execution_count": 47,
   "id": "e29e9553",
   "metadata": {},
   "outputs": [],
   "source": [
    "class K_Mean:\n",
    "    def __init__(self, X, K):\n",
    "        \"\"\"\n",
    "        X: input with shape NxM\n",
    "        K: number of cluster\n",
    "        \"\"\"\n",
    "        \n",
    "        self.X = X\n",
    "        self.labels = []\n",
    "        self.centers = []\n",
    "        self.K = K\n",
    "        \n",
    "    def fit(self):\n",
    "        # random center points         \n",
    "        random_centers = self.X[np.random.choice(self.X.shape[0], self.K)]\n",
    "        self.centers.append(random_centers)\n",
    "        \n",
    "        while True:\n",
    "            # calc dist between all points and all centers\n",
    "            pair_distance = cdist(self.X, self.centers[-1], 'euclidean')\n",
    "            # calc cluster's index for each point\n",
    "            self.labels = np.argmin(pair_distance, axis=1)\n",
    "            \n",
    "            # calc new centers for each cluster\n",
    "            new_centers = np.zeros((self.K, self.X.shape[1]))\n",
    "            for k in range(self.K):\n",
    "                k_th_points = self.X[self.labels == k, :]\n",
    "                k_th_center = np.mean(k_th_points, axis=0)\n",
    "                new_centers[k, :] = k_th_center\n",
    "            \n",
    "            # compare with previous center, if coveraged then break \n",
    "            if (np.sort(new_centers) == np.sort(self.centers[-1])).all():\n",
    "                break\n",
    "            \n",
    "            self.centers.append(new_centers)\n",
    "            \n",
    "    def plot_result(self):\n",
    "        colors = ['red', 'blue', 'green']\n",
    "        centroid_colors = ['black', 'yellow', 'aqua']\n",
    "        \n",
    "        for k in range(self.K):\n",
    "            k_th_points = self.X[self.labels == k, :]\n",
    "            k_th_center = self.centers[-1][k]\n",
    "            \n",
    "            plt.scatter(k_th_points[:, 0], k_th_points[:, 1], color=np.random.rand(3,), alpha=0.6)\n",
    "            plt.scatter(k_th_center[0], k_th_center[1], s=500, marker='*',color=np.random.rand(3,), label=f'{k}')\n",
    "\n",
    "        plt.title(f\"K-mean with {self.K} cluster\")\n",
    "        plt.legend()\n",
    "        plt.show()"
   ]
  },
  {
   "cell_type": "code",
   "execution_count": 42,
   "id": "91e74d54",
   "metadata": {},
   "outputs": [],
   "source": [
    "from sklearn import datasets"
   ]
  },
  {
   "cell_type": "code",
   "execution_count": 43,
   "id": "37e94b08",
   "metadata": {},
   "outputs": [],
   "source": [
    "iris = datasets.load_iris().data"
   ]
  },
  {
   "cell_type": "code",
   "execution_count": 44,
   "id": "3155fa79",
   "metadata": {},
   "outputs": [],
   "source": [
    "iris_x = iris[:, :2]"
   ]
  },
  {
   "cell_type": "code",
   "execution_count": 50,
   "id": "1bcf2afc",
   "metadata": {},
   "outputs": [
    {
     "data": {
      "image/png": "[encoded data removed]",
      "text/plain": [
       "<Figure size 432x288 with 1 Axes>"
      ]
     },
     "metadata": {
      "needs_background": "light"
     },
     "output_type": "display_data"
    }
   ],
   "source": [
    "iris_kmean = K_Mean(iris_x, 3)\n",
    "iris_kmean.fit()\n",
    "iris_kmean.plot_result()"
   ]
  },
  {
   "cell_type": "code",
   "execution_count": null,
   "id": "f64c5e98",
   "metadata": {},
   "outputs": [],
   "source": []
  }
 ],
 "metadata": {
  "kernelspec": {
   "display_name": "Python 3 (ipykernel)",
   "language": "python",
   "name": "python3"
  },
  "language_info": {
   "codemirror_mode": {
    "name": "ipython",
    "version": 3
   },
   "file_extension": ".py",
   "mimetype": "text/x-python",
   "name": "python",
   "nbconvert_exporter": "python",
   "pygments_lexer": "ipython3",
   "version": "3.9.7"
  }
 },
 "nbformat": 4,
 "nbformat_minor": 5
}
