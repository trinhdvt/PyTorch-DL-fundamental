{
 "cells": [
  {
   "cell_type": "code",
   "execution_count": 1,
   "id": "7f87772d",
   "metadata": {},
   "outputs": [],
   "source": [
    "import numpy as np\n",
    "import matplotlib.pyplot as plt\n",
    "\n",
    "%matplotlib inline"
   ]
  },
  {
   "cell_type": "code",
   "execution_count": 19,
   "id": "dfa3263f",
   "metadata": {},
   "outputs": [],
   "source": [
    "class LDA_T:\n",
    "    def __init__(self, n_components):\n",
    "        self.n_components = n_components\n",
    "        self.W = []\n",
    "        \n",
    "    def fit(self, X):\n",
    "        \"\"\"\n",
    "        X: Tuple of features vectors (NxM) of each class\n",
    "        \"\"\"\n",
    "        \n",
    "        num_class = len(X)\n",
    "        assert self.n_components < num_class, 'n_component must lower than number of classes'\n",
    "\n",
    "        self.W = []\n",
    "        \n",
    "        # calc mean of all class\n",
    "        u = np.concatenate(X).mean(axis=0, keepdims=True)\n",
    "\n",
    "        # calc S_B and S_W\n",
    "        S_B = 0\n",
    "        S_W = 0\n",
    "        for x in X:\n",
    "            # calc mean of each class\n",
    "            mean_x = x.mean(axis=0, keepdims=True)\n",
    "            # \n",
    "            d_i = x - mean_x\n",
    "            S_W += np.dot(d_i.T, d_i)\n",
    "            #\n",
    "            mean_x -= u\n",
    "            S_B += x.shape[0] * (np.dot(mean_x.T, mean_x))\n",
    "\n",
    "        # calc W = S_W^-1 * S_B\n",
    "        W = np.linalg.inv(S_W).dot(S_B)\n",
    "\n",
    "        # calc eigenvalues and eigenvector\n",
    "        eigenvalues, eigenvectors = np.linalg.eig(W)\n",
    "\n",
    "        # sort and select largest target_d vectors\n",
    "        idx = eigenvalues.argsort()[::-1]\n",
    "        eigenvectors = eigenvectors[:, idx]\n",
    "\n",
    "        # projection matrix\n",
    "        self.W = eigenvectors[:, :self.n_components]\n",
    "\n",
    "        return self \n",
    "    \n",
    "    def transform(self, X):\n",
    "        return np.dot(X, self.W)"
   ]
  },
  {
   "cell_type": "code",
   "execution_count": 20,
   "id": "fa173503",
   "metadata": {},
   "outputs": [],
   "source": [
    "from sklearn import datasets\n",
    "\n",
    "iris = datasets.load_iris()"
   ]
  },
  {
   "cell_type": "code",
   "execution_count": 21,
   "id": "b2aa65b5",
   "metadata": {},
   "outputs": [],
   "source": [
    "X = iris.data\n",
    "Y = iris.target\n",
    "target_names = iris.target_names"
   ]
  },
  {
   "cell_type": "code",
   "execution_count": 22,
   "id": "9871d0da",
   "metadata": {},
   "outputs": [],
   "source": [
    "X_train = [X[Y == i] for i in range(len(target_names))]"
   ]
  },
  {
   "cell_type": "code",
   "execution_count": 23,
   "id": "ff1b9a22",
   "metadata": {},
   "outputs": [],
   "source": [
    "lda = LDA_T(n_components=2)\n",
    "lda.fit(X_train)\n",
    "X_r = list(map(lda.transform, X_train))"
   ]
  },
  {
   "cell_type": "code",
   "execution_count": 24,
   "id": "91e11966",
   "metadata": {},
   "outputs": [
    {
     "data": {
      "image/png": "[encoded data removed]",
      "text/plain": [
       "<Figure size 432x288 with 1 Axes>"
      ]
     },
     "metadata": {
      "needs_background": "light"
     },
     "output_type": "display_data"
    }
   ],
   "source": [
    "plt.figure()\n",
    "\n",
    "for X_t, name in zip(X_r, target_names):\n",
    "    plt.scatter(X_t[:, 0], X_t[:, 1], label=name, alpha=.8)  \n",
    "plt.legend(loc='best', shadow=False, scatterpoints=1)\n",
    "plt.title('LDA of IRIS dataset')\n",
    "plt.show()\n"
   ]
  },
  {
   "cell_type": "code",
   "execution_count": null,
   "id": "f8d1d4c9",
   "metadata": {},
   "outputs": [],
   "source": []
  }
 ],
 "metadata": {
  "kernelspec": {
   "display_name": "Python 3 (ipykernel)",
   "language": "python",
   "name": "python3"
  },
  "language_info": {
   "codemirror_mode": {
    "name": "ipython",
    "version": 3
   },
   "file_extension": ".py",
   "mimetype": "text/x-python",
   "name": "python",
   "nbconvert_exporter": "python",
   "pygments_lexer": "ipython3",
   "version": "3.9.7"
  }
 },
 "nbformat": 4,
 "nbformat_minor": 5
}
