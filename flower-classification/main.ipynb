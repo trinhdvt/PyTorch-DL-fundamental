{
 "cells": [
  {
   "cell_type": "code",
   "execution_count": null,
   "metadata": {
    "execution": {
     "iopub.execute_input": "2021-11-02T01:52:06.135587Z",
     "iopub.status.busy": "2021-11-02T01:52:06.135013Z",
     "iopub.status.idle": "2021-11-02T01:52:09.068297Z",
     "shell.execute_reply": "2021-11-02T01:52:09.067368Z",
     "shell.execute_reply.started": "2021-11-02T01:52:06.135463Z"
    },
    "id": "10ZGUtBpGPeO",
    "outputId": "5ccea78a-05f7-4413-bffd-43906be9d610"
   },
   "outputs": [],
   "source": [
    "!git clone https://github.com/trinhdvt/PyTorch-DL-fundamental.git\n",
    "%cd ./PyTorch-DL-fundamental/flower-classification"
   ]
  },
  {
   "cell_type": "markdown",
   "metadata": {},
   "source": [
    "### Install dependencies"
   ]
  },
  {
   "cell_type": "code",
   "execution_count": null,
   "metadata": {
    "ExecuteTime": {
     "end_time": "2021-11-02T03:38:36.300697Z",
     "start_time": "2021-11-02T03:38:26.423749Z"
    },
    "execution": {
     "iopub.execute_input": "2021-11-02T01:52:11.284439Z",
     "iopub.status.busy": "2021-11-02T01:52:11.284161Z",
     "iopub.status.idle": "2021-11-02T01:52:45.126051Z",
     "shell.execute_reply": "2021-11-02T01:52:45.125026Z",
     "shell.execute_reply.started": "2021-11-02T01:52:11.284409Z"
    }
   },
   "outputs": [],
   "source": [
    "%%capture\n",
    "!pip3 install -q gdown\n",
    "!pip3 install -q torchsummary\n",
    "!pip3 install -q wandb"
   ]
  },
  {
   "cell_type": "code",
   "execution_count": null,
   "metadata": {
    "ExecuteTime": {
     "end_time": "2021-11-02T03:51:04.654915Z",
     "start_time": "2021-11-02T03:50:33.864120Z"
    },
    "execution": {
     "iopub.execute_input": "2021-11-02T01:54:42.433046Z",
     "iopub.status.busy": "2021-11-02T01:54:42.4324Z",
     "iopub.status.idle": "2021-11-02T01:54:51.513031Z",
     "shell.execute_reply": "2021-11-02T01:54:51.512327Z",
     "shell.execute_reply.started": "2021-11-02T01:54:42.433005Z"
    }
   },
   "outputs": [],
   "source": [
    "!wandb login 6e6ad89112a80767ba11f981192ce27998246acb\n",
    "import wandb\n",
    "\n",
    "wandb.init(project=\"flower-classification\", entity=\"trinhdvt\")"
   ]
  },
  {
   "cell_type": "markdown",
   "metadata": {
    "id": "d42aa62b"
   },
   "source": [
    "### Download data"
   ]
  },
  {
   "cell_type": "code",
   "execution_count": null,
   "metadata": {
    "ExecuteTime": {
     "end_time": "2021-10-30T14:53:12.849522Z",
     "start_time": "2021-10-30T14:53:12.355445Z"
    },
    "execution": {
     "iopub.execute_input": "2021-11-02T01:55:05.354514Z",
     "iopub.status.busy": "2021-11-02T01:55:05.353763Z",
     "iopub.status.idle": "2021-11-02T01:55:11.842968Z",
     "shell.execute_reply": "2021-11-02T01:55:11.842017Z",
     "shell.execute_reply.started": "2021-11-02T01:55:05.354469Z"
    },
    "id": "ddd55759",
    "outputId": "1fc119b3-2a2c-4272-9ccc-20bf7280ba7b",
    "scrolled": true
   },
   "outputs": [],
   "source": [
    "!gdown --id 18CQK_JXSgVny-fSYFPv6qqy_lYeBfm0U\n",
    "!unzip -q data_2.zip\n",
    "!rm -f data_2.zip"
   ]
  },
  {
   "cell_type": "markdown",
   "metadata": {
    "id": "121fb33a"
   },
   "source": [
    "## Import library"
   ]
  },
  {
   "cell_type": "code",
   "execution_count": null,
   "metadata": {
    "ExecuteTime": {
     "end_time": "2021-11-02T03:51:08.032375Z",
     "start_time": "2021-11-02T03:51:04.956049Z"
    },
    "execution": {
     "iopub.execute_input": "2021-11-02T01:55:14.77853Z",
     "iopub.status.busy": "2021-11-02T01:55:14.777922Z",
     "iopub.status.idle": "2021-11-02T01:55:16.614004Z",
     "shell.execute_reply": "2021-11-02T01:55:16.613141Z",
     "shell.execute_reply.started": "2021-11-02T01:55:14.778488Z"
    },
    "id": "9237eb87"
   },
   "outputs": [],
   "source": [
    "import torch\n",
    "import matplotlib.pyplot as plt\n",
    "\n",
    "from torchvision.utils import make_grid\n",
    "from torch.utils.tensorboard import SummaryWriter\n",
    "from torchsummary import summary\n",
    "\n",
    "from core import build_model, data_loader, train_helper\n",
    "from utils import display_utils\n",
    "\n",
    "from warnings import filterwarnings\n",
    "\n",
    "filterwarnings(\"ignore\", category=DeprecationWarning)\n",
    "filterwarnings(\"ignore\", category=FutureWarning)\n",
    "filterwarnings(\"ignore\", category=UserWarning)\n",
    "torch.manual_seed(0)\n",
    "\n",
    "%matplotlib inline"
   ]
  },
  {
   "cell_type": "markdown",
   "metadata": {
    "id": "d97d9a6f"
   },
   "source": [
    "### Load data with PyTorch"
   ]
  },
  {
   "cell_type": "code",
   "execution_count": null,
   "metadata": {
    "ExecuteTime": {
     "end_time": "2021-11-02T03:51:26.011081Z",
     "start_time": "2021-11-02T03:51:25.965438Z"
    },
    "execution": {
     "iopub.execute_input": "2021-11-02T01:55:16.61574Z",
     "iopub.status.busy": "2021-11-02T01:55:16.615478Z",
     "iopub.status.idle": "2021-11-02T01:55:16.653032Z",
     "shell.execute_reply": "2021-11-02T01:55:16.652311Z",
     "shell.execute_reply.started": "2021-11-02T01:55:16.615707Z"
    },
    "id": "9e8b3bec",
    "outputId": "fa8467ef-8168-489b-eb08-65e9610f6c7a"
   },
   "outputs": [],
   "source": [
    "train_dir = \"./data_2/train/\"\n",
    "val_dir = \"./data_2/valid/\"\n",
    "test_dir = \"./data_2/test/\"\n",
    "params = {\n",
    "    \"batch_size\": 32,\n",
    "    \"num_workers\": 0,\n",
    "    \"pin_memory\": True if torch.cuda.is_available() else False\n",
    "}\n",
    "\n",
    "class_names, train_loader, test_loader, val_loader = data_loader.load_data(\n",
    "    train_dir,\n",
    "    test_dir,\n",
    "    val_dir,\n",
    "    batch_size=params['batch_size'],\n",
    "    pin_memory=params['pin_memory'])\n",
    "\n",
    "print(\"Class: \", class_names)\n",
    "for name, loader in [(\"Train set\", train_loader),\n",
    "                     (\"Validation set\", val_loader),\n",
    "                     (\"Testing set\", (test_loader))]:\n",
    "    print(f\"{name}: {len(loader) * loader.batch_size} images\")"
   ]
  },
  {
   "cell_type": "markdown",
   "metadata": {
    "ExecuteTime": {
     "end_time": "2021-10-30T16:46:24.312876Z",
     "start_time": "2021-10-30T16:46:24.304741Z"
    },
    "id": "0f06a176"
   },
   "source": [
    "### Visualize First Train Batch"
   ]
  },
  {
   "cell_type": "code",
   "execution_count": null,
   "metadata": {
    "ExecuteTime": {
     "end_time": "2021-10-31T09:41:39.838849Z",
     "start_time": "2021-10-31T09:41:38.897136Z"
    },
    "execution": {
     "iopub.execute_input": "2021-11-02T01:55:18.106218Z",
     "iopub.status.busy": "2021-11-02T01:55:18.105522Z",
     "iopub.status.idle": "2021-11-02T01:55:22.004678Z",
     "shell.execute_reply": "2021-11-02T01:55:22.001217Z",
     "shell.execute_reply.started": "2021-11-02T01:55:18.106184Z"
    },
    "id": "e0089a3c",
    "outputId": "cb8c356f-77bc-4f3e-f7ae-43bc2c056411",
    "scrolled": true
   },
   "outputs": [],
   "source": [
    "for images, labels in train_loader:\n",
    "    display_utils.display(images,\n",
    "                          labels,\n",
    "                          class_names,\n",
    "                          save_path=\"train_batch.jpg\")\n",
    "    wandb.log({\"First train batch\": wandb.Image(\"train_batch.jpg\")})\n",
    "    break"
   ]
  },
  {
   "cell_type": "markdown",
   "metadata": {
    "id": "d72c0ccd"
   },
   "source": [
    "### Define CNN Model"
   ]
  },
  {
   "cell_type": "code",
   "execution_count": null,
   "metadata": {
    "ExecuteTime": {
     "end_time": "2021-10-31T09:46:10.349296Z",
     "start_time": "2021-10-31T09:46:08.690566Z"
    },
    "execution": {
     "iopub.execute_input": "2021-11-02T01:55:22.006515Z",
     "iopub.status.busy": "2021-11-02T01:55:22.006183Z",
     "iopub.status.idle": "2021-11-02T01:55:22.247694Z",
     "shell.execute_reply": "2021-11-02T01:55:22.246955Z",
     "shell.execute_reply.started": "2021-11-02T01:55:22.006477Z"
    },
    "id": "3b11988e",
    "outputId": "6383e47c-0c4f-474f-e2f2-1a85503aa043",
    "scrolled": true
   },
   "outputs": [],
   "source": [
    "# summary(build_model.CNN(num_classes=5), (3, 224, 224), batch_size=1, device=\"cpu\")"
   ]
  },
  {
   "cell_type": "markdown",
   "metadata": {
    "id": "8de17210"
   },
   "source": [
    "### Train model"
   ]
  },
  {
   "cell_type": "code",
   "execution_count": null,
   "metadata": {
    "ExecuteTime": {
     "end_time": "2021-11-02T03:52:01.561390Z",
     "start_time": "2021-11-02T03:51:42.310167Z"
    },
    "execution": {
     "iopub.execute_input": "2021-11-02T01:55:35.261233Z",
     "iopub.status.busy": "2021-11-02T01:55:35.260972Z",
     "iopub.status.idle": "2021-11-02T01:55:35.328227Z",
     "shell.execute_reply": "2021-11-02T01:55:35.327429Z",
     "shell.execute_reply.started": "2021-11-02T01:55:35.261206Z"
    },
    "id": "e3785e09"
   },
   "outputs": [],
   "source": [
    "model = build_model.CNN(num_classes=len(class_names),\n",
    "                        input_size=224,\n",
    "                        in_channels=3)\n",
    "\n",
    "params.update({\n",
    "    \"epochs\": 150,\n",
    "    \"lr\": 0.001,\n",
    "    \"device\": \"cuda:0\" if torch.cuda.is_available() else \"cpu\",\n",
    "    \"non_blocking\": True if torch.cuda.is_available() else False,\n",
    "})\n",
    "params.update({\n",
    "    \"loss_fn\": torch.nn.NLLLoss(),\n",
    "    \"optimzer\": torch.optim.Adam(model.parameters(), lr=params['lr'])\n",
    "})\n",
    "\n",
    "# init tensorboard\n",
    "tb = SummaryWriter()\n",
    "grid = make_grid(data_loader.inv_normalize(images))\n",
    "tb.add_image(\"images\", grid)\n",
    "tb.add_graph(model, images)\n",
    "tb.close()\n",
    "\n",
    "wandb.config = params"
   ]
  },
  {
   "cell_type": "code",
   "execution_count": null,
   "metadata": {
    "ExecuteTime": {
     "end_time": "2021-11-02T03:58:27.174884Z",
     "start_time": "2021-11-02T03:52:13.454580Z"
    },
    "_kg_hide-output": true,
    "execution": {
     "iopub.execute_input": "2021-11-02T01:55:41.681062Z",
     "iopub.status.busy": "2021-11-02T01:55:41.680458Z",
     "iopub.status.idle": "2021-11-02T01:57:43.782792Z",
     "shell.execute_reply": "2021-11-02T01:57:43.781849Z",
     "shell.execute_reply.started": "2021-11-02T01:55:41.681023Z"
    },
    "id": "H_reF4AMO6S3",
    "outputId": "5951f535-b868-402f-a879-e7fa8ba5fc4e",
    "scrolled": false
   },
   "outputs": [],
   "source": [
    "model.to(params['device'])\n",
    "#\n",
    "# wandb.watch(model)\n",
    "train_hist = train_helper.traning_loops(epochs=params['epochs'],\n",
    "                                        model=model,\n",
    "                                        train_loader=train_loader,\n",
    "                                        val_loader=val_loader,\n",
    "                                        optimizer=params['optimzer'],\n",
    "                                        criterion=params['loss_fn'],\n",
    "                                        device=params['device'],\n",
    "                                        non_blocking=params['non_blocking'])"
   ]
  },
  {
   "cell_type": "code",
   "execution_count": null,
   "metadata": {
    "ExecuteTime": {
     "end_time": "2021-11-02T03:58:47.283440Z",
     "start_time": "2021-11-02T03:58:36.520229Z"
    },
    "id": "eZgxCwjGYF9d",
    "outputId": "f6055064-4d86-407a-adc4-8246a3d9b0ac",
    "scrolled": false
   },
   "outputs": [],
   "source": [
    "# %load_ext tensorboard\n",
    "# %tensorboard --logdir runs"
   ]
  },
  {
   "cell_type": "markdown",
   "metadata": {
    "id": "jOB0NN6ISO7P"
   },
   "source": [
    "### Visualize Training results"
   ]
  },
  {
   "cell_type": "code",
   "execution_count": null,
   "metadata": {
    "ExecuteTime": {
     "end_time": "2021-11-02T03:58:59.936198Z",
     "start_time": "2021-11-02T03:58:58.853073Z"
    },
    "id": "Me5q3NH7STIu",
    "outputId": "98cb68ee-5107-41f4-fea0-05b90988943d"
   },
   "outputs": [],
   "source": [
    "fig, axes = plt.subplots(nrows=1, ncols=2, figsize=(12, 5))\n",
    "axes = axes.flat\n",
    "metrics_name = ((\"val_loss\", \"train_loss\"), (\"val_acc\", \"train_acc\"))\n",
    "\n",
    "for i, ax in enumerate(axes):\n",
    "    metric = metrics_name[i]\n",
    "    ax.plot(train_hist[metric[0]], label=metric[0])\n",
    "    ax.plot(train_hist[metric[1]], label=metric[1])\n",
    "    ax.set_xlabel(\"epoch\")\n",
    "    ax.legend()\n",
    "\n",
    "plt.savefig(\"train_hist.jpg\")\n",
    "wandb.log({\"train_hist\": wandb.Image(\"train_hist.jpg\")})\n",
    "plt.show()"
   ]
  },
  {
   "cell_type": "markdown",
   "metadata": {
    "id": "312e6ae6"
   },
   "source": [
    "### Measuring Accuracy"
   ]
  },
  {
   "cell_type": "code",
   "execution_count": null,
   "metadata": {
    "ExecuteTime": {
     "end_time": "2021-10-31T10:23:09.664415Z",
     "start_time": "2021-10-31T10:23:09.653193Z"
    },
    "id": "513cacf8",
    "outputId": "c75df07f-2462-4329-8ead-a48675161482"
   },
   "outputs": [],
   "source": [
    "train_helper.test_model(model,\n",
    "                        test_loader=test_loader,\n",
    "                        device=params['device'],\n",
    "                        non_blocking=params['non_blocking'])"
   ]
  },
  {
   "cell_type": "markdown",
   "metadata": {
    "id": "d2d70f15"
   },
   "source": [
    "### Save model"
   ]
  },
  {
   "cell_type": "code",
   "execution_count": null,
   "metadata": {
    "ExecuteTime": {
     "end_time": "2021-10-31T10:24:34.323112Z",
     "start_time": "2021-10-31T10:24:33.905062Z"
    },
    "id": "a27ff373"
   },
   "outputs": [],
   "source": [
    "torch.save(model.state_dict(), \"last_model.pth\")"
   ]
  },
  {
   "cell_type": "markdown",
   "metadata": {},
   "source": [
    "### Show test result"
   ]
  },
  {
   "cell_type": "code",
   "execution_count": null,
   "metadata": {
    "ExecuteTime": {
     "end_time": "2021-11-02T04:05:22.697042Z",
     "start_time": "2021-11-02T04:05:17.620819Z"
    },
    "id": "0e21103e",
    "outputId": "5e5b5c65-c839-4418-ee92-e6d470cfdb74"
   },
   "outputs": [],
   "source": [
    "model.eval()\n",
    "with torch.no_grad():\n",
    "    for imgs, labels in test_loader:\n",
    "        # to device\n",
    "        imgs = imgs.to(params['device'])\n",
    "        labels = labels.to(params['device'])\n",
    "\n",
    "        # get the output\n",
    "        outputs = model(imgs)\n",
    "        _, predicted = torch.max(outputs, dim=1)\n",
    "\n",
    "        # plot results\n",
    "        display_utils.display(images=imgs,\n",
    "                              truth_labels=labels,\n",
    "                              class_names=class_names,\n",
    "                              predicted=predicted,\n",
    "                              figsize=(10, 10),\n",
    "                              save_path=\"test_result.jpg\")\n",
    "        wandb.log({\"test_result\": wandb.Image(\"test_result.jpg\")})\n",
    "        break"
   ]
  },
  {
   "cell_type": "code",
   "execution_count": null,
   "metadata": {},
   "outputs": [],
   "source": []
  }
 ],
 "metadata": {
  "kernelspec": {
   "display_name": "Python 3 (ipykernel)",
   "language": "python",
   "name": "python3"
  },
  "language_info": {
   "codemirror_mode": {
    "name": "ipython",
    "version": 3
   },
   "file_extension": ".py",
   "mimetype": "text/x-python",
   "name": "python",
   "nbconvert_exporter": "python",
   "pygments_lexer": "ipython3",
   "version": "3.9.7"
  }
 },
 "nbformat": 4,
 "nbformat_minor": 4
}
