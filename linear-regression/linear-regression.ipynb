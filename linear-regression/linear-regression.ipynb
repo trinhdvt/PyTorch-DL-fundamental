{
 "cells": [
  {
   "cell_type": "code",
   "execution_count": 61,
   "id": "7c2f0acb",
   "metadata": {},
   "outputs": [],
   "source": [
    "import torch\n",
    "import numpy as np\n",
    "import matplotlib.pyplot as plt\n",
    "import pandas as pd\n",
    "\n",
    "%matplotlib inline"
   ]
  },
  {
   "cell_type": "markdown",
   "id": "d63fd414",
   "metadata": {},
   "source": [
    "### Load data (from csv file)"
   ]
  },
  {
   "cell_type": "code",
   "execution_count": 118,
   "id": "4226232c",
   "metadata": {},
   "outputs": [],
   "source": [
    "def load_data(path):\n",
    "    data = pd.read_csv(path).dropna().values\n",
    "    \n",
    "    x_ = data[:, 0]\n",
    "    y_ = data[:, 1]\n",
    "    \n",
    "    return torch.from_numpy(x_).unsqueeze(1).float(), torch.from_numpy(y_).unsqueeze(1).float()"
   ]
  },
  {
   "cell_type": "code",
   "execution_count": 119,
   "id": "6c8d95fa",
   "metadata": {},
   "outputs": [
    {
     "data": {
      "text/plain": [
       "(torch.Size([699, 1]),\n",
       " torch.Size([699, 1]),\n",
       " torch.Size([300, 1]),\n",
       " torch.Size([300, 1]))"
      ]
     },
     "execution_count": 119,
     "metadata": {},
     "output_type": "execute_result"
    }
   ],
   "source": [
    "train_data_path = \"../data/linear-regression/train.csv\"\n",
    "val_data_path = \"../data/linear-regression/test.csv\"\n",
    "\n",
    "x_train, y_train = load_data(train_data_path)\n",
    "x_val, y_val = load_data(val_data_path)\n",
    "\n",
    "x_train.shape, y_train.shape, x_val.shape, y_val.shape"
   ]
  },
  {
   "cell_type": "markdown",
   "id": "3128dfef",
   "metadata": {},
   "source": [
    "### Visualize data"
   ]
  },
  {
   "cell_type": "code",
   "execution_count": 120,
   "id": "e976e686",
   "metadata": {},
   "outputs": [
    {
     "data": {
      "image/png": "[encoded data removed]",
      "text/plain": [
       "<Figure size 432x288 with 1 Axes>"
      ]
     },
     "metadata": {
      "needs_background": "light"
     },
     "output_type": "display_data"
    }
   ],
   "source": [
    "plt.scatter(x_train, y_train)\n",
    "plt.show()"
   ]
  },
  {
   "cell_type": "markdown",
   "id": "0644a659",
   "metadata": {},
   "source": [
    "### Training function"
   ]
  },
  {
   "cell_type": "code",
   "execution_count": 126,
   "id": "64ec050d",
   "metadata": {},
   "outputs": [],
   "source": [
    "def predict(x, w, b):\n",
    "    return x @ w + b\n",
    "\n",
    "def loss_fn(x, y, w, b):\n",
    "    yhat = predict(x, w, b)\n",
    "    diff = (yhat - y)**2\n",
    "    return diff.mean()\n",
    "\n",
    "def traning_loops(n_epochs, train_data, val_data, optimzer, params):\n",
    "    loss_hist = {'train':torch.zeros(n_epochs), 'val':torch.zeros(n_epochs)}\n",
    "    \n",
    "    x_train, y_train = train_data\n",
    "    x_val, y_val = val_data\n",
    "    for i in range(1, n_epochs+1):\n",
    "        predicted = predict(x_train, *params)\n",
    "        loss = loss_fn(x_train, y_train, *params)\n",
    "        \n",
    "        optimzer.zero_grad()\n",
    "        loss.backward()\n",
    "        optimzer.step()\n",
    "        \n",
    "        loss_hist['train'][i-1] = loss\n",
    "        with torch.no_grad():\n",
    "            predicted = predict(x_val, *params)\n",
    "            val_loss = loss_fn(x_val, y_val, *params)\n",
    "            loss_hist['val'][i-1] = val_loss\n",
    "            \n",
    "        if i % 100 == 0:\n",
    "            print(f\"Epoch: {i} loss {loss}\")\n",
    "    \n",
    "    return params, loss_hist"
   ]
  },
  {
   "cell_type": "markdown",
   "id": "739aeca1",
   "metadata": {},
   "source": [
    "### Initialize params"
   ]
  },
  {
   "cell_type": "code",
   "execution_count": 127,
   "id": "3dfb56db",
   "metadata": {},
   "outputs": [],
   "source": [
    "w = torch.ones(x.shape[1], 1, requires_grad=True)\n",
    "b = torch.zeros(x.shape[1], 1, requires_grad=True)\n",
    "lr = 1e-2\n",
    "optimzer = torch.optim.Adam([w, b], lr=lr)"
   ]
  },
  {
   "cell_type": "markdown",
   "id": "f8732b9a",
   "metadata": {},
   "source": [
    "### Training the model"
   ]
  },
  {
   "cell_type": "code",
   "execution_count": 128,
   "id": "baac1c4b",
   "metadata": {},
   "outputs": [
    {
     "name": "stdout",
     "output_type": "stream",
     "text": [
      "Epoch: 100 loss 7.867793083190918\n"
     ]
    }
   ],
   "source": [
    "n_epochs = 100\n",
    "params, loss_hist = traning_loops(n_epochs, (x_train, y_train), (x_val, y_val), optimzer, [w, b])"
   ]
  },
  {
   "cell_type": "markdown",
   "id": "a6a63297",
   "metadata": {},
   "source": [
    "### Display the result"
   ]
  },
  {
   "cell_type": "code",
   "execution_count": 129,
   "id": "a60c46da",
   "metadata": {},
   "outputs": [
    {
     "data": {
      "text/plain": [
       "(torch.Size([100, 1]), torch.Size([100, 1]))"
      ]
     },
     "execution_count": 129,
     "metadata": {},
     "output_type": "execute_result"
    }
   ],
   "source": [
    "x_plt = torch.linspace(int(x_train.min().item()-1), int(x_train.max().item()+1)).unsqueeze(1)\n",
    "\n",
    "y_plt = x_plt * w + b\n",
    "y_plt = y_plt.detach()\n",
    "\n",
    "x_plt.shape, y_plt.shape"
   ]
  },
  {
   "cell_type": "code",
   "execution_count": 130,
   "id": "ded42de4",
   "metadata": {},
   "outputs": [
    {
     "data": {
      "image/png": "[encoded data removed]",
      "text/plain": [
       "<Figure size 432x288 with 1 Axes>"
      ]
     },
     "metadata": {
      "needs_background": "light"
     },
     "output_type": "display_data"
    }
   ],
   "source": [
    "plt.scatter(x_train, y_train)\n",
    "plt.plot(x_plt, y_plt, c='red', label='eval_function')\n",
    "plt.legend()\n",
    "plt.show()"
   ]
  },
  {
   "cell_type": "code",
   "execution_count": 131,
   "id": "104a1d2a",
   "metadata": {},
   "outputs": [
    {
     "data": {
      "image/png": "[encoded data removed]",
      "text/plain": [
       "<Figure size 432x288 with 1 Axes>"
      ]
     },
     "metadata": {
      "needs_background": "light"
     },
     "output_type": "display_data"
    }
   ],
   "source": [
    "epoch_plt = torch.arange(n_epochs)\n",
    "train_loss = loss_hist['train'].detach()\n",
    "val_loss = loss_hist['val'].detach()\n",
    "\n",
    "plt.plot(epoch_plt, train_loss, label='train_loss')\n",
    "plt.plot(epoch_plt, val_loss, label='val_loss', c='red')\n",
    "plt.xlabel(\"Epochs\")\n",
    "plt.ylabel(\"Loss\")\n",
    "plt.legend()\n",
    "plt.title(\"Loss metrics\")\n",
    "plt.show()"
   ]
  },
  {
   "cell_type": "code",
   "execution_count": null,
   "id": "4d9da897",
   "metadata": {},
   "outputs": [],
   "source": []
  }
 ],
 "metadata": {
  "kernelspec": {
   "display_name": "Python 3 (ipykernel)",
   "language": "python",
   "name": "python3"
  },
  "language_info": {
   "codemirror_mode": {
    "name": "ipython",
    "version": 3
   },
   "file_extension": ".py",
   "mimetype": "text/x-python",
   "name": "python",
   "nbconvert_exporter": "python",
   "pygments_lexer": "ipython3",
   "version": "3.9.6"
  }
 },
 "nbformat": 4,
 "nbformat_minor": 5
}
