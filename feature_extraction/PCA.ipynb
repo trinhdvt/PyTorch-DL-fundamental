{
 "cells": [
  {
   "cell_type": "code",
   "execution_count": 333,
   "id": "e70e68ec",
   "metadata": {},
   "outputs": [],
   "source": [
    "import numpy as np\n",
    "import matplotlib.pyplot as plt\n",
    "\n",
    "%matplotlib inline"
   ]
  },
  {
   "cell_type": "code",
   "execution_count": 334,
   "id": "8e7c9419",
   "metadata": {},
   "outputs": [],
   "source": [
    "# Test with PCA from scikit-learn\n",
    "from sklearn.decomposition import PCA"
   ]
  },
  {
   "cell_type": "markdown",
   "id": "7bb73000",
   "metadata": {},
   "source": [
    "### Implement PCA"
   ]
  },
  {
   "cell_type": "code",
   "execution_count": 335,
   "id": "852b3701",
   "metadata": {},
   "outputs": [],
   "source": [
    "def pca(input, target_d):\n",
    "    \"\"\"\n",
    "    input shape (n, m): n -> number of samples, m -> input dimension\n",
    "    \"\"\"\n",
    "    n, m = input.shape\n",
    "    assert target_d < m, \"Target dimension must be lower than original\"\n",
    "\n",
    "    # substract by mean     \n",
    "    input -= input.mean(axis=0)\n",
    "    \n",
    "    # compute covariance matrix\n",
    "    cov_mat = np.dot(input.T, input) / (n - 1)\n",
    "\n",
    "    # compute eigenvalues and eigenvector\n",
    "    values, vectors = np.linalg.eig(cov_mat)\n",
    "    \n",
    "    # sort eigenvector by eigenvalues desc\n",
    "    idx = values.argsort()[::-1]\n",
    "    vectors = vectors[:, idx]\n",
    "    \n",
    "    # take first target_d vectors\n",
    "    W = vectors[:, :target_d]\n",
    "    \n",
    "    # projection on lower dimension\n",
    "    Y = np.dot(input, W)\n",
    "    \n",
    "    return Y"
   ]
  },
  {
   "cell_type": "markdown",
   "id": "97de8bbe",
   "metadata": {},
   "source": [
    "### Implement PCA with SVD"
   ]
  },
  {
   "cell_type": "code",
   "execution_count": 336,
   "id": "8e837c75",
   "metadata": {},
   "outputs": [],
   "source": [
    "def svd(input, target_d):\n",
    "    \"\"\"\n",
    "    input shape (n, m): n -> number of samples, m -> input dimension\n",
    "    \"\"\"\n",
    "    n, m = input.shape\n",
    "    assert target_d < m, \"Target dimension must be lower than original\"\n",
    "\n",
    "    # substract by mean\n",
    "    input -= input.mean(axis=0)\n",
    "    \n",
    "    # Construct Z (NxM)    \n",
    "    Z = input / (1 / np.sqrt(n - 1))\n",
    "\n",
    "    \"\"\"\n",
    "    Compute full SVD\n",
    "    L (NxN)\n",
    "    S (M, )\n",
    "    R (MxM)\n",
    "    \"\"\"\n",
    "    L, S, R = np.linalg.svd(Z, full_matrices=True, compute_uv=True)\n",
    "    \n",
    "    # sort eigenvectors     \n",
    "    idx = S.argsort()[::-1]\n",
    "    R = R[:, idx]\n",
    "    \n",
    "    # select the first target_d , shape(M x target_d)\n",
    "    W = R[:, :target_d]\n",
    "    \n",
    "    # project on lower dimension with shape (N x target_d)\n",
    "    Y = np.dot(input, W)\n",
    "    \n",
    "    return Y"
   ]
  },
  {
   "cell_type": "markdown",
   "id": "a3e60e8d",
   "metadata": {},
   "source": [
    "### Compare result"
   ]
  },
  {
   "cell_type": "code",
   "execution_count": 337,
   "id": "67a8c83f",
   "metadata": {},
   "outputs": [
    {
     "name": "stdout",
     "output_type": "stream",
     "text": [
      "svd [[-0.59778944]\n",
      " [ 0.09380137]\n",
      " [ 0.50398807]]\n",
      "\n",
      "pca [[-0.59778944]\n",
      " [ 0.09380137]\n",
      " [ 0.50398807]]\n",
      "\n",
      "Sklearn [[ 0.59778944]\n",
      " [-0.09380137]\n",
      " [-0.50398807]]\n",
      "\n"
     ]
    }
   ],
   "source": [
    "n_sample = 3\n",
    "d = 2\n",
    "target_d = 1\n",
    "\n",
    "input = np.random.rand(n_sample, d)\n",
    "\n",
    "svd_x = svd(input, target_d)\n",
    "pca_x = pca(input, target_d)\n",
    "sklearn_pca = PCA(n_components=target_d).fit_transform(input)\n",
    "\n",
    "print(f\"svd {svd_x}\\n\")\n",
    "print(f\"pca {pca_x}\\n\")\n",
    "print(f\"Sklearn {sklearn_pca}\\n\")"
   ]
  },
  {
   "cell_type": "code",
   "execution_count": null,
   "id": "0860f4ef",
   "metadata": {},
   "outputs": [],
   "source": []
  }
 ],
 "metadata": {
  "kernelspec": {
   "display_name": "Python 3 (ipykernel)",
   "language": "python",
   "name": "python3"
  },
  "language_info": {
   "codemirror_mode": {
    "name": "ipython",
    "version": 3
   },
   "file_extension": ".py",
   "mimetype": "text/x-python",
   "name": "python",
   "nbconvert_exporter": "python",
   "pygments_lexer": "ipython3",
   "version": "3.9.7"
  }
 },
 "nbformat": 4,
 "nbformat_minor": 5
}
