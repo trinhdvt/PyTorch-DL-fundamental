{
 "cells": [
  {
   "cell_type": "code",
   "execution_count": 6,
   "id": "e70e68ec",
   "metadata": {},
   "outputs": [],
   "source": [
    "import numpy as np\n",
    "import matplotlib.pyplot as plt\n",
    "\n",
    "%matplotlib inline"
   ]
  },
  {
   "cell_type": "code",
   "execution_count": 7,
   "id": "8e7c9419",
   "metadata": {},
   "outputs": [],
   "source": [
    "# Test with PCA from scikit-learn\n",
    "from sklearn.decomposition import PCA"
   ]
  },
  {
   "cell_type": "markdown",
   "id": "7bb73000",
   "metadata": {},
   "source": [
    "### Implement PCA"
   ]
  },
  {
   "cell_type": "code",
   "execution_count": 12,
   "id": "5a7e86be",
   "metadata": {},
   "outputs": [],
   "source": [
    "class PCA_T:\n",
    "    def __init__(self, n_components, use_svd=False):\n",
    "        \n",
    "        self.n_components = n_components\n",
    "        self.use_svd = use_svd\n",
    "        self.W = []\n",
    "        \n",
    "    def fit(self, input):\n",
    "        \"\"\"\n",
    "        input's shape (n, m): n-> number of samples, m -> input's dimension\n",
    "        \"\"\"\n",
    "        n, m = input.shape\n",
    "        assert self.n_components < m, \"n_component must be smaller than input's dimension\"\n",
    "        self.n_components = min(n, self.n_components)\n",
    "        \n",
    "        # reset W\n",
    "        self.W = []\n",
    "        \n",
    "        # substract by mean     \n",
    "        input -= input.mean(axis=0)\n",
    "        \n",
    "        if not self.use_svd:\n",
    "            # compute covariance matrix\n",
    "            cov_mat = np.dot(input.T, input) / (n - 1)\n",
    "\n",
    "            # compute eigenvalues and eigenvector\n",
    "            eigenvalues, eigenvectors = np.linalg.eig(cov_mat)\n",
    "            \n",
    "        else:\n",
    "            # Construct Z (NxM)    \n",
    "            Z = input / (1 / np.sqrt(n - 1))\n",
    "\n",
    "            \"\"\"\n",
    "            Compute full SVD\n",
    "            L (NxN)\n",
    "            S (M, )\n",
    "            R (MxM)\n",
    "            \"\"\"\n",
    "            _, eigenvalues, eigenvectors = np.linalg.svd(Z, full_matrices=True, compute_uv=True)\n",
    "            \n",
    "        # sort eigenvector by eigenvalues desc\n",
    "        idx = eigenvalues.argsort()[::-1]\n",
    "        vectors = eigenvectors[:, idx]\n",
    "\n",
    "        # take first target_d vectors\n",
    "        self.W = vectors[:, :self.n_components]\n",
    "        \n",
    "        return self\n",
    "    \n",
    "    def transform(self, input):\n",
    "        return np.dot(input, self.W)\n",
    "        "
   ]
  },
  {
   "cell_type": "markdown",
   "id": "eb92b408",
   "metadata": {},
   "source": [
    "### Test PCA with Iris datasets"
   ]
  },
  {
   "cell_type": "code",
   "execution_count": 13,
   "id": "65866adf",
   "metadata": {},
   "outputs": [],
   "source": [
    "from sklearn import datasets\n",
    "\n",
    "iris = datasets.load_iris()"
   ]
  },
  {
   "cell_type": "code",
   "execution_count": 14,
   "id": "a0ccd0e0",
   "metadata": {},
   "outputs": [],
   "source": [
    "X = iris.data\n",
    "Y = iris.target\n",
    "target_names = iris.target_names"
   ]
  },
  {
   "cell_type": "code",
   "execution_count": 15,
   "id": "22163f56",
   "metadata": {},
   "outputs": [],
   "source": [
    "pca_t = PCA_T(n_components=2)\n",
    "X_r = pca_t.fit(X).transform(X) "
   ]
  },
  {
   "cell_type": "code",
   "execution_count": 16,
   "id": "4e816cfc",
   "metadata": {},
   "outputs": [
    {
     "data": {
      "image/png": "[encoded data removed]",
      "text/plain": [
       "<Figure size 432x288 with 1 Axes>"
      ]
     },
     "metadata": {
      "needs_background": "light"
     },
     "output_type": "display_data"
    }
   ],
   "source": [
    "plt.figure()\n",
    "colors = ['navy', 'turquoise', 'darkorange']\n",
    "lw = 2\n",
    "\n",
    "for color, i, target_name in zip(colors, [0, 1, 2], target_names):\n",
    "    plt.scatter(X_r[Y == i, 0], X_r[Y == i, 1], color=color, alpha=.8, lw=lw,\n",
    "                label=target_name)\n",
    "plt.legend(loc='best', shadow=False, scatterpoints=1)\n",
    "plt.title('PCA of IRIS dataset')\n",
    "plt.show()"
   ]
  },
  {
   "cell_type": "code",
   "execution_count": null,
   "id": "0860f4ef",
   "metadata": {},
   "outputs": [],
   "source": []
  }
 ],
 "metadata": {
  "kernelspec": {
   "display_name": "Python 3 (ipykernel)",
   "language": "python",
   "name": "python3"
  },
  "language_info": {
   "codemirror_mode": {
    "name": "ipython",
    "version": 3
   },
   "file_extension": ".py",
   "mimetype": "text/x-python",
   "name": "python",
   "nbconvert_exporter": "python",
   "pygments_lexer": "ipython3",
   "version": "3.9.7"
  }
 },
 "nbformat": 4,
 "nbformat_minor": 5
}
