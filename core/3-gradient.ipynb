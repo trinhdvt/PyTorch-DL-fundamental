{
 "cells": [
  {
   "cell_type": "code",
   "execution_count": 5,
   "id": "f60cd990",
   "metadata": {},
   "outputs": [],
   "source": [
    "import torch\n",
    "import numpy as np\n",
    "import matplotlib.pyplot as plt\n",
    "\n",
    "%matplotlib inline"
   ]
  },
  {
   "cell_type": "markdown",
   "id": "36c0484b",
   "metadata": {},
   "source": [
    "### Gernerate some data"
   ]
  },
  {
   "cell_type": "code",
   "execution_count": 6,
   "id": "4e3c90d1",
   "metadata": {},
   "outputs": [],
   "source": [
    "t_c = [0.5,  14.0, 15.0, 28.0, 11.0,  8.0,  3.0, -4.0,  6.0, 13.0, 21.0]\n",
    "t_u = [35.7, 55.9, 58.2, 81.9, 56.3, 48.9, 33.9, 21.8, 48.4, 60.4, 68.4]\n",
    "t_c = torch.tensor(t_c)\n",
    "t_u = torch.tensor(t_u)"
   ]
  },
  {
   "cell_type": "code",
   "execution_count": 8,
   "id": "386d0cb2",
   "metadata": {},
   "outputs": [
    {
     "data": {
      "image/png": "[encoded data removed]",
      "text/plain": [
       "<Figure size 432x288 with 1 Axes>"
      ]
     },
     "metadata": {
      "needs_background": "light"
     },
     "output_type": "display_data"
    }
   ],
   "source": [
    "plt.scatter(t_u, t_c)\n",
    "plt.show()"
   ]
  },
  {
   "cell_type": "markdown",
   "id": "4f65ea2b",
   "metadata": {},
   "source": [
    "### Predict and loss function"
   ]
  },
  {
   "cell_type": "code",
   "execution_count": 9,
   "id": "141f8efe",
   "metadata": {},
   "outputs": [],
   "source": [
    "def model(t_u, w, b):\n",
    "    return w * t_u + b\n",
    "\n",
    "def loss_fn(t_p, t_c):\n",
    "    square_diff = (t_p - t_c) ** 2\n",
    "    return square_diff.mean()\n"
   ]
  },
  {
   "cell_type": "markdown",
   "id": "5fe056b2",
   "metadata": {},
   "source": [
    "### Invoke the model"
   ]
  },
  {
   "cell_type": "code",
   "execution_count": 13,
   "id": "f026c822",
   "metadata": {},
   "outputs": [
    {
     "data": {
      "text/plain": [
       "(tensor([35.7000, 55.9000, 58.2000, 81.9000, 56.3000, 48.9000, 33.9000, 21.8000,\n",
       "         48.4000, 60.4000, 68.4000]),\n",
       " torch.Size([11]))"
      ]
     },
     "execution_count": 13,
     "metadata": {},
     "output_type": "execute_result"
    }
   ],
   "source": [
    "w = torch.ones(())\n",
    "b = torch.zeros(())\n",
    "\n",
    "t_p = model(t_u, w, b)\n",
    "t_p, t_p.shape"
   ]
  },
  {
   "cell_type": "code",
   "execution_count": 14,
   "id": "5dd40d85",
   "metadata": {
    "scrolled": true
   },
   "outputs": [
    {
     "data": {
      "text/plain": [
       "(tensor(1763.8848), torch.Size([]))"
      ]
     },
     "execution_count": 14,
     "metadata": {},
     "output_type": "execute_result"
    }
   ],
   "source": [
    "loss = loss_fn(t_p, t_c)\n",
    "loss, loss.shape"
   ]
  },
  {
   "cell_type": "markdown",
   "id": "f93e914a",
   "metadata": {},
   "source": [
    "### Gradient function"
   ]
  },
  {
   "cell_type": "code",
   "execution_count": 17,
   "id": "91efa4f4",
   "metadata": {},
   "outputs": [],
   "source": [
    "def dloss_fn(t_p, t_c):\n",
    "    dsq_diff = 2 * (t_p - t_c) / t_p.size(0)\n",
    "    return dsq_diff\n",
    "\n",
    "def dmodel_dw(t_u, w, b):\n",
    "    return t_u\n",
    "\n",
    "def dmodel_db(t_u, w, b):\n",
    "    return 1.0\n",
    "\n",
    "def grad_fn(t_u, t_c, t_p, w, b):\n",
    "    dloss_dtp = dloss_fn(t_p, t_c)\n",
    "    dloss_dw = dloss_dtp * dmodel_dw(t_u, w, b)\n",
    "    dloss_db = dloss_dtp * dmodel_db(t_u, w, b)\n",
    "    return torch.stack([dloss_dw.sum(), dloss_db.sum()])"
   ]
  },
  {
   "cell_type": "markdown",
   "id": "e4b13783",
   "metadata": {},
   "source": [
    "### Training"
   ]
  },
  {
   "cell_type": "code",
   "execution_count": 20,
   "id": "6c2ec76a",
   "metadata": {},
   "outputs": [],
   "source": [
    "def training_loops(n_epochs, learning_rate, params, t_u, t_c):\n",
    "    for i in range(1, n_epochs + 1):\n",
    "        w, b = params\n",
    "        \n",
    "        t_p = model(t_u, w, b) # forward\n",
    "        loss = loss_fn(t_p, t_c)\n",
    "        grad = grad_fn(t_u, t_c, t_p, w, b) # backward\n",
    "        \n",
    "        params -= learning_rate * grad\n",
    "        if i % 10 == 0:\n",
    "            print(f\"Epochs {i} loss {loss}%\")\n",
    "    \n",
    "    return params"
   ]
  },
  {
   "cell_type": "code",
   "execution_count": 21,
   "id": "551003b9",
   "metadata": {},
   "outputs": [
    {
     "name": "stdout",
     "output_type": "stream",
     "text": [
      "Epochs 10 loss 29.105247497558594%\n",
      "Epochs 20 loss 29.09588050842285%\n",
      "Epochs 30 loss 29.086713790893555%\n",
      "Epochs 40 loss 29.07756233215332%\n",
      "Epochs 50 loss 29.068401336669922%\n",
      "Epochs 60 loss 29.059247970581055%\n",
      "Epochs 70 loss 29.050098419189453%\n",
      "Epochs 80 loss 29.04095458984375%\n",
      "Epochs 90 loss 29.031810760498047%\n",
      "Epochs 100 loss 29.022666931152344%\n"
     ]
    },
    {
     "data": {
      "text/plain": [
       "tensor([ 0.2327, -0.0438])"
      ]
     },
     "execution_count": 21,
     "metadata": {},
     "output_type": "execute_result"
    }
   ],
   "source": [
    "training_loops(n_epochs=100, learning_rate=1e-4, params=torch.tensor([1.0, 0.0]), t_u=t_u, t_c=t_c)"
   ]
  },
  {
   "cell_type": "markdown",
   "id": "567925ed",
   "metadata": {},
   "source": [
    "### PyTorch autograd"
   ]
  },
  {
   "cell_type": "code",
   "execution_count": 23,
   "id": "c3ebd81a",
   "metadata": {},
   "outputs": [],
   "source": [
    "params = torch.tensor([1.0, 0.0], requires_grad=True)"
   ]
  },
  {
   "cell_type": "code",
   "execution_count": 24,
   "id": "01896862",
   "metadata": {},
   "outputs": [
    {
     "data": {
      "text/plain": [
       "tensor([4517.2969,   82.6000])"
      ]
     },
     "execution_count": 24,
     "metadata": {},
     "output_type": "execute_result"
    }
   ],
   "source": [
    "loss = loss_fn(model(t_u, *params), t_c)\n",
    "loss.backward()\n",
    "\n",
    "params.grad"
   ]
  },
  {
   "cell_type": "code",
   "execution_count": 25,
   "id": "fe2294f2",
   "metadata": {},
   "outputs": [],
   "source": [
    "def training_loop_2(n_epochs, learning_rate, params, t_u, t_c):\n",
    "    for i in range(1, n_epochs + 1):\n",
    "        if params.grad is not None:\n",
    "            params.grad.zero_()\n",
    "        \n",
    "        t_p = model(t_u, *params) # forward\n",
    "        loss = loss_fn(t_p, t_c)\n",
    "        loss.backward()\n",
    "#         grad = grad_fn(t_u, t_c, t_p, w, b) # backward\n",
    "\n",
    "        with torch.no_grad():\n",
    "            params -= learning_rate * params.grad\n",
    "\n",
    "        if i % 100 == 0:\n",
    "            print(f\"Epochs {i} loss {loss}%\")\n",
    "    \n",
    "    return params"
   ]
  },
  {
   "cell_type": "code",
   "execution_count": 27,
   "id": "568c45c6",
   "metadata": {},
   "outputs": [
    {
     "name": "stdout",
     "output_type": "stream",
     "text": [
      "Epochs 100 loss 22.148710250854492%\n",
      "Epochs 200 loss 16.60806655883789%\n",
      "Epochs 300 loss 12.664559364318848%\n",
      "Epochs 400 loss 9.857802391052246%\n",
      "Epochs 500 loss 7.860115051269531%\n"
     ]
    },
    {
     "data": {
      "text/plain": [
       "tensor([ 4.0443, -9.8133], requires_grad=True)"
      ]
     },
     "execution_count": 27,
     "metadata": {},
     "output_type": "execute_result"
    }
   ],
   "source": [
    "training_loop_2(500, 1e-2, torch.tensor([1.0, 0.0], requires_grad=True), t_u*0.1, t_c)"
   ]
  },
  {
   "cell_type": "markdown",
   "id": "825c1ed2",
   "metadata": {},
   "source": [
    "### PyTorch optimzer"
   ]
  },
  {
   "cell_type": "code",
   "execution_count": 28,
   "id": "3df6bbba",
   "metadata": {},
   "outputs": [],
   "source": [
    "import torch.optim as optim"
   ]
  },
  {
   "cell_type": "code",
   "execution_count": 29,
   "id": "f366d074",
   "metadata": {},
   "outputs": [
    {
     "data": {
      "text/plain": [
       "['ASGD',\n",
       " 'Adadelta',\n",
       " 'Adagrad',\n",
       " 'Adam',\n",
       " 'AdamW',\n",
       " 'Adamax',\n",
       " 'LBFGS',\n",
       " 'Optimizer',\n",
       " 'RMSprop',\n",
       " 'Rprop',\n",
       " 'SGD',\n",
       " 'SparseAdam',\n",
       " '__builtins__',\n",
       " '__cached__',\n",
       " '__doc__',\n",
       " '__file__',\n",
       " '__loader__',\n",
       " '__name__',\n",
       " '__package__',\n",
       " '__path__',\n",
       " '__spec__',\n",
       " '_functional',\n",
       " '_multi_tensor',\n",
       " 'lr_scheduler',\n",
       " 'swa_utils']"
      ]
     },
     "execution_count": 29,
     "metadata": {},
     "output_type": "execute_result"
    }
   ],
   "source": [
    "dir(optim)"
   ]
  },
  {
   "cell_type": "code",
   "execution_count": 36,
   "id": "56ef9019",
   "metadata": {},
   "outputs": [],
   "source": [
    "def training_loop_3(n_epochs, optimzer, params, t_u, t_c):\n",
    "    for i in range(1, n_epochs + 1):        \n",
    "        t_p = model(t_u, *params) # forward\n",
    "        loss = loss_fn(t_p, t_c)\n",
    "        \n",
    "        optimzer.zero_grad()\n",
    "        loss.backward()\n",
    "        optimzer.step()\n",
    "        \n",
    "        if i % 100 == 0:\n",
    "            print(f\"Epochs {i} loss {loss}%\")\n",
    "    \n",
    "    return params"
   ]
  },
  {
   "cell_type": "code",
   "execution_count": 37,
   "id": "e56896dc",
   "metadata": {},
   "outputs": [],
   "source": [
    "params = torch.tensor([1.0, 0.0], requires_grad=True)\n",
    "lr = 1e-2\n",
    "optimzer = optim.SGD([params], lr=lr)"
   ]
  },
  {
   "cell_type": "code",
   "execution_count": 38,
   "id": "491ffbda",
   "metadata": {},
   "outputs": [
    {
     "name": "stdout",
     "output_type": "stream",
     "text": [
      "Epochs 100 loss 22.148710250854492%\n",
      "Epochs 200 loss 16.60806655883789%\n",
      "Epochs 300 loss 12.664559364318848%\n",
      "Epochs 400 loss 9.857802391052246%\n",
      "Epochs 500 loss 7.860115051269531%\n"
     ]
    },
    {
     "data": {
      "text/plain": [
       "tensor([ 4.0443, -9.8133], requires_grad=True)"
      ]
     },
     "execution_count": 38,
     "metadata": {},
     "output_type": "execute_result"
    }
   ],
   "source": [
    "training_loop_3(500, optimzer, params, t_u*0.1, t_c)"
   ]
  },
  {
   "cell_type": "code",
   "execution_count": 40,
   "id": "957dca3a",
   "metadata": {},
   "outputs": [
    {
     "name": "stdout",
     "output_type": "stream",
     "text": [
      "Epochs 100 loss 23.898942947387695%\n",
      "Epochs 200 loss 19.082260131835938%\n",
      "Epochs 300 loss 14.398392677307129%\n",
      "Epochs 400 loss 10.508145332336426%\n",
      "Epochs 500 loss 7.612900257110596%\n"
     ]
    },
    {
     "data": {
      "text/plain": [
       "tensor([  0.4081, -10.0095], requires_grad=True)"
      ]
     },
     "execution_count": 40,
     "metadata": {},
     "output_type": "execute_result"
    }
   ],
   "source": [
    "params = torch.tensor([1.0, 0.0], requires_grad=True)\n",
    "lr = 1e-1\n",
    "optimzer2 = optim.Adam([params], lr=lr)\n",
    "training_loop_3(500, optimzer2, params, t_u, t_c)"
   ]
  },
  {
   "cell_type": "code",
   "execution_count": null,
   "id": "11022ff5",
   "metadata": {},
   "outputs": [],
   "source": []
  }
 ],
 "metadata": {
  "kernelspec": {
   "display_name": "Python 3 (ipykernel)",
   "language": "python",
   "name": "python3"
  },
  "language_info": {
   "codemirror_mode": {
    "name": "ipython",
    "version": 3
   },
   "file_extension": ".py",
   "mimetype": "text/x-python",
   "name": "python",
   "nbconvert_exporter": "python",
   "pygments_lexer": "ipython3",
   "version": "3.9.6"
  }
 },
 "nbformat": 4,
 "nbformat_minor": 5
}
